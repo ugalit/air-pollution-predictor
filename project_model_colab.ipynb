{
  "cells": [
    {
      "attachments": {},
      "cell_type": "markdown",
      "metadata": {
        "id": "H-J59CNYxosv"
      },
      "source": [
        "# Model of particulate matter dynamics using traffic and weather data"
      ]
    },
    {
      "cell_type": "code",
      "execution_count": 2,
      "metadata": {
        "execution": {
          "iopub.execute_input": "2022-12-15T14:57:03.087840Z",
          "iopub.status.busy": "2022-12-15T14:57:03.086983Z",
          "iopub.status.idle": "2022-12-15T14:57:03.092786Z",
          "shell.execute_reply": "2022-12-15T14:57:03.091868Z",
          "shell.execute_reply.started": "2022-12-15T14:57:03.087757Z"
        },
        "id": "iaKSDlF0xos-",
        "trusted": true
      },
      "outputs": [],
      "source": [
        "import os\n",
        "import glob\n",
        "import numpy as np\n",
        "import pandas as pd\n",
        "import seaborn as sns\n",
        "import matplotlib.pyplot as plt"
      ]
    },
    {
      "cell_type": "code",
      "execution_count": 3,
      "metadata": {
        "execution": {
          "iopub.execute_input": "2022-12-15T14:57:06.640562Z",
          "iopub.status.busy": "2022-12-15T14:57:06.639759Z",
          "iopub.status.idle": "2022-12-15T14:57:06.647371Z",
          "shell.execute_reply": "2022-12-15T14:57:06.646073Z",
          "shell.execute_reply.started": "2022-12-15T14:57:06.640524Z"
        },
        "id": "qm5U4eC2xotI",
        "trusted": true
      },
      "outputs": [],
      "source": [
        "from sklearn.preprocessing import StandardScaler, MinMaxScaler, OneHotEncoder, PolynomialFeatures\n",
        "from sklearn.preprocessing import QuantileTransformer, PowerTransformer\n",
        "from sklearn.model_selection import train_test_split, cross_val_score, GridSearchCV\n",
        "from sklearn.pipeline import Pipeline, make_pipeline\n",
        "from sklearn.compose import ColumnTransformer\n",
        "from sklearn.impute import SimpleImputer\n",
        "from sklearn.linear_model import LinearRegression, LogisticRegression\n",
        "from sklearn.ensemble import RandomForestRegressor, VotingRegressor\n",
        "import sklearn.metrics as metrics"
      ]
    },
    {
      "attachments": {},
      "cell_type": "markdown",
      "metadata": {
        "id": "lecEJ06ExotN"
      },
      "source": [
        "## Read data"
      ]
    },
    {
      "cell_type": "code",
      "execution_count": 4,
      "metadata": {
        "colab": {
          "base_uri": "https://localhost:8080/"
        },
        "id": "Ap2r4wGczLph",
        "outputId": "d423ac9a-ed8a-4cf4-fd41-67bdab5768e2"
      },
      "outputs": [
        {
          "name": "stdout",
          "output_type": "stream",
          "text": [
            "Drive already mounted at /content/drive; to attempt to forcibly remount, call drive.mount(\"/content/drive\", force_remount=True).\n"
          ]
        }
      ],
      "source": [
        "from google.colab import drive\n",
        "drive.mount('/content/drive')"
      ]
    },
    {
      "cell_type": "code",
      "execution_count": 5,
      "metadata": {
        "id": "BIi--o6c2dbZ"
      },
      "outputs": [],
      "source": [
        "#!ls drive/MyDrive"
      ]
    },
    {
      "cell_type": "code",
      "execution_count": 6,
      "metadata": {
        "id": "XficWMmJxotQ"
      },
      "outputs": [],
      "source": [
        "df = pd.read_csv('drive/MyDrive/Colab Notebooks/df_marien_full.csv', parse_dates=['datetime'], index_col='datetime')"
      ]
    },
    {
      "cell_type": "code",
      "execution_count": 7,
      "metadata": {
        "id": "ZyoEDB7AxotW"
      },
      "outputs": [],
      "source": [
        "df = df.dropna()"
      ]
    },
    {
      "cell_type": "code",
      "execution_count": 8,
      "metadata": {
        "colab": {
          "base_uri": "https://localhost:8080/"
        },
        "execution": {
          "iopub.execute_input": "2022-12-15T14:38:39.962533Z",
          "iopub.status.busy": "2022-12-15T14:38:39.962210Z",
          "iopub.status.idle": "2022-12-15T14:38:39.970527Z",
          "shell.execute_reply": "2022-12-15T14:38:39.969125Z",
          "shell.execute_reply.started": "2022-12-15T14:38:39.962508Z"
        },
        "id": "OC-rGTfLxotZ",
        "outputId": "1e7dc7ff-3401-4293-f1f8-2f7b4ba499ce",
        "trusted": true
      },
      "outputs": [
        {
          "data": {
            "text/plain": [
              "Index(['q_kfz_mq_hr', 'v_kfz_mq_hr', 'LUFTTEMPERATUR', 'REL_FEUCHTE',\n",
              "       'NIEDERSCHLAGSHOEHE', 'WINDGESCHWINDIGKEIT', 'SONNENSCHEINDAUER',\n",
              "       'mean_q', 'min_q', 'max_q', 'std_q', 'skew_q', 'kurt_q', 'mean_v',\n",
              "       'min_v', 'max_v', 'std_v', 'skew_v', 'kurt_v', 'q_kfz_lag1',\n",
              "       'q_kfz_lag2', 'q_kfz_lag3', 'q_kfz_lag6', 'q_kfz_lag12', 'q_kfz_lag24',\n",
              "       'v_kfz_lag1', 'v_kfz_lag2', 'v_kfz_lag3', 'v_kfz_lag6', 'v_kfz_lag12',\n",
              "       'v_kfz_lag24', 'hour_sin', 'hour_cos', 'weekday_sin', 'weekday_cos',\n",
              "       'month_sin', 'month_cos', 'winddir_cos', 'winddir_sin'],\n",
              "      dtype='object')"
            ]
          },
          "execution_count": 8,
          "metadata": {},
          "output_type": "execute_result"
        }
      ],
      "source": [
        "num_features = df.drop(columns=['Feinstaub (PM2,5)']).columns\n",
        "num_features"
      ]
    },
    {
      "attachments": {},
      "cell_type": "markdown",
      "metadata": {
        "id": "46nWgKZ8xotg"
      },
      "source": [
        "### Linear Regression to check for p-values"
      ]
    },
    {
      "cell_type": "code",
      "execution_count": null,
      "metadata": {
        "id": "59IY9Phgxotl"
      },
      "outputs": [],
      "source": [
        "import statsmodels.api as sm"
      ]
    },
    {
      "cell_type": "code",
      "execution_count": null,
      "metadata": {
        "id": "x2SyR1kfxotn"
      },
      "outputs": [],
      "source": [
        "lm_stats = sm.OLS(df['Feinstaub (PM2,5)'], df.drop(columns=['Feinstaub (PM2,5)']))\n",
        "results_lm = lm_stats.fit()"
      ]
    },
    {
      "cell_type": "code",
      "execution_count": null,
      "metadata": {
        "id": "0q3L3S4ixotq",
        "outputId": "3e7b2cec-f092-42f9-f4be-65160e853262"
      },
      "outputs": [
        {
          "data": {
            "text/html": [
              "<table class=\"simpletable\">\n",
              "<caption>OLS Regression Results</caption>\n",
              "<tr>\n",
              "  <th>Dep. Variable:</th>    <td>Feinstaub (PM2,5)</td> <th>  R-squared (uncentered):</th>      <td>   0.825</td> \n",
              "</tr>\n",
              "<tr>\n",
              "  <th>Model:</th>                   <td>OLS</td>        <th>  Adj. R-squared (uncentered):</th> <td>   0.824</td> \n",
              "</tr>\n",
              "<tr>\n",
              "  <th>Method:</th>             <td>Least Squares</td>   <th>  F-statistic:       </th>          <td>   943.5</td> \n",
              "</tr>\n",
              "<tr>\n",
              "  <th>Date:</th>             <td>Sun, 18 Dec 2022</td>  <th>  Prob (F-statistic):</th>           <td>  0.00</td>  \n",
              "</tr>\n",
              "<tr>\n",
              "  <th>Time:</th>                 <td>23:38:36</td>      <th>  Log-Likelihood:    </th>          <td> -25421.</td> \n",
              "</tr>\n",
              "<tr>\n",
              "  <th>No. Observations:</th>      <td>  7837</td>       <th>  AIC:               </th>          <td>5.092e+04</td>\n",
              "</tr>\n",
              "<tr>\n",
              "  <th>Df Residuals:</th>          <td>  7798</td>       <th>  BIC:               </th>          <td>5.119e+04</td>\n",
              "</tr>\n",
              "<tr>\n",
              "  <th>Df Model:</th>              <td>    39</td>       <th>                     </th>              <td> </td>    \n",
              "</tr>\n",
              "<tr>\n",
              "  <th>Covariance Type:</th>      <td>nonrobust</td>     <th>                     </th>              <td> </td>    \n",
              "</tr>\n",
              "</table>\n",
              "<table class=\"simpletable\">\n",
              "<tr>\n",
              "           <td></td>              <th>coef</th>     <th>std err</th>      <th>t</th>      <th>P>|t|</th>  <th>[0.025</th>    <th>0.975]</th>  \n",
              "</tr>\n",
              "<tr>\n",
              "  <th>q_kfz_mq_hr</th>         <td>   -0.0040</td> <td>    0.001</td> <td>   -4.936</td> <td> 0.000</td> <td>   -0.006</td> <td>   -0.002</td>\n",
              "</tr>\n",
              "<tr>\n",
              "  <th>v_kfz_mq_hr</th>         <td>    0.0105</td> <td>    0.011</td> <td>    0.981</td> <td> 0.327</td> <td>   -0.011</td> <td>    0.032</td>\n",
              "</tr>\n",
              "<tr>\n",
              "  <th>LUFTTEMPERATUR</th>      <td>    0.0446</td> <td>    0.021</td> <td>    2.117</td> <td> 0.034</td> <td>    0.003</td> <td>    0.086</td>\n",
              "</tr>\n",
              "<tr>\n",
              "  <th>REL_FEUCHTE</th>         <td>    0.0580</td> <td>    0.006</td> <td>    9.200</td> <td> 0.000</td> <td>    0.046</td> <td>    0.070</td>\n",
              "</tr>\n",
              "<tr>\n",
              "  <th>NIEDERSCHLAGSHOEHE</th>  <td>   -0.1340</td> <td>    0.177</td> <td>   -0.757</td> <td> 0.449</td> <td>   -0.481</td> <td>    0.213</td>\n",
              "</tr>\n",
              "<tr>\n",
              "  <th>WINDGESCHWINDIGKEIT</th> <td>   -0.5463</td> <td>    0.018</td> <td>  -31.148</td> <td> 0.000</td> <td>   -0.581</td> <td>   -0.512</td>\n",
              "</tr>\n",
              "<tr>\n",
              "  <th>SONNENSCHEINDAUER</th>   <td>   -0.0210</td> <td>    0.006</td> <td>   -3.236</td> <td> 0.001</td> <td>   -0.034</td> <td>   -0.008</td>\n",
              "</tr>\n",
              "<tr>\n",
              "  <th>mean_q</th>              <td>   -0.0035</td> <td>    0.002</td> <td>   -1.547</td> <td> 0.122</td> <td>   -0.008</td> <td>    0.001</td>\n",
              "</tr>\n",
              "<tr>\n",
              "  <th>min_q</th>               <td>    0.0018</td> <td>    0.007</td> <td>    0.255</td> <td> 0.799</td> <td>   -0.012</td> <td>    0.016</td>\n",
              "</tr>\n",
              "<tr>\n",
              "  <th>max_q</th>               <td>   -0.0004</td> <td>    0.000</td> <td>   -1.449</td> <td> 0.147</td> <td>   -0.001</td> <td>    0.000</td>\n",
              "</tr>\n",
              "<tr>\n",
              "  <th>std_q</th>               <td>    0.0185</td> <td>    0.004</td> <td>    4.907</td> <td> 0.000</td> <td>    0.011</td> <td>    0.026</td>\n",
              "</tr>\n",
              "<tr>\n",
              "  <th>skew_q</th>              <td>   -1.0106</td> <td>    0.301</td> <td>   -3.363</td> <td> 0.001</td> <td>   -1.600</td> <td>   -0.421</td>\n",
              "</tr>\n",
              "<tr>\n",
              "  <th>kurt_q</th>              <td>    0.0466</td> <td>    0.024</td> <td>    1.919</td> <td> 0.055</td> <td>   -0.001</td> <td>    0.094</td>\n",
              "</tr>\n",
              "<tr>\n",
              "  <th>mean_v</th>              <td>    0.2946</td> <td>    0.037</td> <td>    8.062</td> <td> 0.000</td> <td>    0.223</td> <td>    0.366</td>\n",
              "</tr>\n",
              "<tr>\n",
              "  <th>min_v</th>               <td>    0.0830</td> <td>    0.023</td> <td>    3.671</td> <td> 0.000</td> <td>    0.039</td> <td>    0.127</td>\n",
              "</tr>\n",
              "<tr>\n",
              "  <th>max_v</th>               <td>   -0.0135</td> <td>    0.017</td> <td>   -0.769</td> <td> 0.442</td> <td>   -0.048</td> <td>    0.021</td>\n",
              "</tr>\n",
              "<tr>\n",
              "  <th>std_v</th>               <td>    0.3603</td> <td>    0.116</td> <td>    3.118</td> <td> 0.002</td> <td>    0.134</td> <td>    0.587</td>\n",
              "</tr>\n",
              "<tr>\n",
              "  <th>skew_v</th>              <td>   -1.8998</td> <td>    0.372</td> <td>   -5.100</td> <td> 0.000</td> <td>   -2.630</td> <td>   -1.170</td>\n",
              "</tr>\n",
              "<tr>\n",
              "  <th>kurt_v</th>              <td>    0.2286</td> <td>    0.091</td> <td>    2.517</td> <td> 0.012</td> <td>    0.051</td> <td>    0.407</td>\n",
              "</tr>\n",
              "<tr>\n",
              "  <th>q_kfz_lag1</th>          <td>    0.0017</td> <td>    0.001</td> <td>    1.749</td> <td> 0.080</td> <td>   -0.000</td> <td>    0.004</td>\n",
              "</tr>\n",
              "<tr>\n",
              "  <th>q_kfz_lag2</th>          <td>    0.0020</td> <td>    0.001</td> <td>    1.983</td> <td> 0.047</td> <td> 2.26e-05</td> <td>    0.004</td>\n",
              "</tr>\n",
              "<tr>\n",
              "  <th>q_kfz_lag3</th>          <td>-9.632e-05</td> <td>    0.001</td> <td>   -0.146</td> <td> 0.884</td> <td>   -0.001</td> <td>    0.001</td>\n",
              "</tr>\n",
              "<tr>\n",
              "  <th>q_kfz_lag6</th>          <td>    0.0006</td> <td>    0.000</td> <td>    1.652</td> <td> 0.099</td> <td>   -0.000</td> <td>    0.001</td>\n",
              "</tr>\n",
              "<tr>\n",
              "  <th>q_kfz_lag12</th>         <td>    0.0006</td> <td>    0.000</td> <td>    2.000</td> <td> 0.046</td> <td> 1.29e-05</td> <td>    0.001</td>\n",
              "</tr>\n",
              "<tr>\n",
              "  <th>q_kfz_lag24</th>         <td>-7.459e-05</td> <td>    0.000</td> <td>   -0.208</td> <td> 0.835</td> <td>   -0.001</td> <td>    0.001</td>\n",
              "</tr>\n",
              "<tr>\n",
              "  <th>v_kfz_lag1</th>          <td>   -0.0126</td> <td>    0.012</td> <td>   -1.016</td> <td> 0.310</td> <td>   -0.037</td> <td>    0.012</td>\n",
              "</tr>\n",
              "<tr>\n",
              "  <th>v_kfz_lag2</th>          <td>   -0.0097</td> <td>    0.012</td> <td>   -0.783</td> <td> 0.434</td> <td>   -0.034</td> <td>    0.015</td>\n",
              "</tr>\n",
              "<tr>\n",
              "  <th>v_kfz_lag3</th>          <td>    0.0004</td> <td>    0.011</td> <td>    0.035</td> <td> 0.972</td> <td>   -0.021</td> <td>    0.021</td>\n",
              "</tr>\n",
              "<tr>\n",
              "  <th>v_kfz_lag6</th>          <td>   -0.0190</td> <td>    0.008</td> <td>   -2.238</td> <td> 0.025</td> <td>   -0.036</td> <td>   -0.002</td>\n",
              "</tr>\n",
              "<tr>\n",
              "  <th>v_kfz_lag12</th>         <td>   -0.0260</td> <td>    0.008</td> <td>   -3.264</td> <td> 0.001</td> <td>   -0.042</td> <td>   -0.010</td>\n",
              "</tr>\n",
              "<tr>\n",
              "  <th>v_kfz_lag24</th>         <td>   -0.0284</td> <td>    0.008</td> <td>   -3.584</td> <td> 0.000</td> <td>   -0.044</td> <td>   -0.013</td>\n",
              "</tr>\n",
              "<tr>\n",
              "  <th>hour_sin</th>            <td>    2.1231</td> <td>    0.244</td> <td>    8.715</td> <td> 0.000</td> <td>    1.646</td> <td>    2.601</td>\n",
              "</tr>\n",
              "<tr>\n",
              "  <th>hour_cos</th>            <td>    0.2628</td> <td>    0.305</td> <td>    0.861</td> <td> 0.389</td> <td>   -0.336</td> <td>    0.861</td>\n",
              "</tr>\n",
              "<tr>\n",
              "  <th>weekday_sin</th>         <td>   -0.3227</td> <td>    0.114</td> <td>   -2.842</td> <td> 0.004</td> <td>   -0.545</td> <td>   -0.100</td>\n",
              "</tr>\n",
              "<tr>\n",
              "  <th>weekday_cos</th>         <td>   -0.4319</td> <td>    0.109</td> <td>   -3.956</td> <td> 0.000</td> <td>   -0.646</td> <td>   -0.218</td>\n",
              "</tr>\n",
              "<tr>\n",
              "  <th>month_sin</th>           <td>    2.5874</td> <td>    0.181</td> <td>   14.263</td> <td> 0.000</td> <td>    2.232</td> <td>    2.943</td>\n",
              "</tr>\n",
              "<tr>\n",
              "  <th>month_cos</th>           <td>    3.2330</td> <td>    0.200</td> <td>   16.186</td> <td> 0.000</td> <td>    2.841</td> <td>    3.625</td>\n",
              "</tr>\n",
              "<tr>\n",
              "  <th>winddir_cos</th>         <td>   -2.3859</td> <td>    0.123</td> <td>  -19.418</td> <td> 0.000</td> <td>   -2.627</td> <td>   -2.145</td>\n",
              "</tr>\n",
              "<tr>\n",
              "  <th>winddir_sin</th>         <td>    1.5873</td> <td>    0.109</td> <td>   14.510</td> <td> 0.000</td> <td>    1.373</td> <td>    1.802</td>\n",
              "</tr>\n",
              "</table>\n",
              "<table class=\"simpletable\">\n",
              "<tr>\n",
              "  <th>Omnibus:</th>       <td>3096.491</td> <th>  Durbin-Watson:     </th> <td>   0.173</td> \n",
              "</tr>\n",
              "<tr>\n",
              "  <th>Prob(Omnibus):</th>  <td> 0.000</td>  <th>  Jarque-Bera (JB):  </th> <td>20623.155</td>\n",
              "</tr>\n",
              "<tr>\n",
              "  <th>Skew:</th>           <td> 1.750</td>  <th>  Prob(JB):          </th> <td>    0.00</td> \n",
              "</tr>\n",
              "<tr>\n",
              "  <th>Kurtosis:</th>       <td>10.135</td>  <th>  Cond. No.          </th> <td>1.51e+04</td> \n",
              "</tr>\n",
              "</table><br/><br/>Notes:<br/>[1] R² is computed without centering (uncentered) since the model does not contain a constant.<br/>[2] Standard Errors assume that the covariance matrix of the errors is correctly specified.<br/>[3] The condition number is large, 1.51e+04. This might indicate that there are<br/>strong multicollinearity or other numerical problems."
            ],
            "text/plain": [
              "<class 'statsmodels.iolib.summary.Summary'>\n",
              "\"\"\"\n",
              "                                 OLS Regression Results                                \n",
              "=======================================================================================\n",
              "Dep. Variable:      Feinstaub (PM2,5)   R-squared (uncentered):                   0.825\n",
              "Model:                            OLS   Adj. R-squared (uncentered):              0.824\n",
              "Method:                 Least Squares   F-statistic:                              943.5\n",
              "Date:                Sun, 18 Dec 2022   Prob (F-statistic):                        0.00\n",
              "Time:                        23:38:36   Log-Likelihood:                         -25421.\n",
              "No. Observations:                7837   AIC:                                  5.092e+04\n",
              "Df Residuals:                    7798   BIC:                                  5.119e+04\n",
              "Df Model:                          39                                                  \n",
              "Covariance Type:            nonrobust                                                  \n",
              "=======================================================================================\n",
              "                          coef    std err          t      P>|t|      [0.025      0.975]\n",
              "---------------------------------------------------------------------------------------\n",
              "q_kfz_mq_hr            -0.0040      0.001     -4.936      0.000      -0.006      -0.002\n",
              "v_kfz_mq_hr             0.0105      0.011      0.981      0.327      -0.011       0.032\n",
              "LUFTTEMPERATUR          0.0446      0.021      2.117      0.034       0.003       0.086\n",
              "REL_FEUCHTE             0.0580      0.006      9.200      0.000       0.046       0.070\n",
              "NIEDERSCHLAGSHOEHE     -0.1340      0.177     -0.757      0.449      -0.481       0.213\n",
              "WINDGESCHWINDIGKEIT    -0.5463      0.018    -31.148      0.000      -0.581      -0.512\n",
              "SONNENSCHEINDAUER      -0.0210      0.006     -3.236      0.001      -0.034      -0.008\n",
              "mean_q                 -0.0035      0.002     -1.547      0.122      -0.008       0.001\n",
              "min_q                   0.0018      0.007      0.255      0.799      -0.012       0.016\n",
              "max_q                  -0.0004      0.000     -1.449      0.147      -0.001       0.000\n",
              "std_q                   0.0185      0.004      4.907      0.000       0.011       0.026\n",
              "skew_q                 -1.0106      0.301     -3.363      0.001      -1.600      -0.421\n",
              "kurt_q                  0.0466      0.024      1.919      0.055      -0.001       0.094\n",
              "mean_v                  0.2946      0.037      8.062      0.000       0.223       0.366\n",
              "min_v                   0.0830      0.023      3.671      0.000       0.039       0.127\n",
              "max_v                  -0.0135      0.017     -0.769      0.442      -0.048       0.021\n",
              "std_v                   0.3603      0.116      3.118      0.002       0.134       0.587\n",
              "skew_v                 -1.8998      0.372     -5.100      0.000      -2.630      -1.170\n",
              "kurt_v                  0.2286      0.091      2.517      0.012       0.051       0.407\n",
              "q_kfz_lag1              0.0017      0.001      1.749      0.080      -0.000       0.004\n",
              "q_kfz_lag2              0.0020      0.001      1.983      0.047    2.26e-05       0.004\n",
              "q_kfz_lag3          -9.632e-05      0.001     -0.146      0.884      -0.001       0.001\n",
              "q_kfz_lag6              0.0006      0.000      1.652      0.099      -0.000       0.001\n",
              "q_kfz_lag12             0.0006      0.000      2.000      0.046    1.29e-05       0.001\n",
              "q_kfz_lag24         -7.459e-05      0.000     -0.208      0.835      -0.001       0.001\n",
              "v_kfz_lag1             -0.0126      0.012     -1.016      0.310      -0.037       0.012\n",
              "v_kfz_lag2             -0.0097      0.012     -0.783      0.434      -0.034       0.015\n",
              "v_kfz_lag3              0.0004      0.011      0.035      0.972      -0.021       0.021\n",
              "v_kfz_lag6             -0.0190      0.008     -2.238      0.025      -0.036      -0.002\n",
              "v_kfz_lag12            -0.0260      0.008     -3.264      0.001      -0.042      -0.010\n",
              "v_kfz_lag24            -0.0284      0.008     -3.584      0.000      -0.044      -0.013\n",
              "hour_sin                2.1231      0.244      8.715      0.000       1.646       2.601\n",
              "hour_cos                0.2628      0.305      0.861      0.389      -0.336       0.861\n",
              "weekday_sin            -0.3227      0.114     -2.842      0.004      -0.545      -0.100\n",
              "weekday_cos            -0.4319      0.109     -3.956      0.000      -0.646      -0.218\n",
              "month_sin               2.5874      0.181     14.263      0.000       2.232       2.943\n",
              "month_cos               3.2330      0.200     16.186      0.000       2.841       3.625\n",
              "winddir_cos            -2.3859      0.123    -19.418      0.000      -2.627      -2.145\n",
              "winddir_sin             1.5873      0.109     14.510      0.000       1.373       1.802\n",
              "==============================================================================\n",
              "Omnibus:                     3096.491   Durbin-Watson:                   0.173\n",
              "Prob(Omnibus):                  0.000   Jarque-Bera (JB):            20623.155\n",
              "Skew:                           1.750   Prob(JB):                         0.00\n",
              "Kurtosis:                      10.135   Cond. No.                     1.51e+04\n",
              "==============================================================================\n",
              "\n",
              "Notes:\n",
              "[1] R² is computed without centering (uncentered) since the model does not contain a constant.\n",
              "[2] Standard Errors assume that the covariance matrix of the errors is correctly specified.\n",
              "[3] The condition number is large, 1.51e+04. This might indicate that there are\n",
              "strong multicollinearity or other numerical problems.\n",
              "\"\"\""
            ]
          },
          "execution_count": 9,
          "metadata": {},
          "output_type": "execute_result"
        }
      ],
      "source": [
        "results_lm.summary()"
      ]
    },
    {
      "cell_type": "code",
      "execution_count": null,
      "metadata": {
        "id": "MDR1x0mixott",
        "outputId": "c49c4859-e2ca-4b94-ca62-fdd6c20e10cb"
      },
      "outputs": [
        {
          "data": {
            "text/plain": [
              "Index(['v_kfz_mq_hr', 'NIEDERSCHLAGSHOEHE', 'mean_q', 'min_q', 'max_q',\n",
              "       'max_v', 'q_kfz_lag3', 'q_kfz_lag24', 'v_kfz_lag1', 'v_kfz_lag2',\n",
              "       'v_kfz_lag3', 'hour_cos'],\n",
              "      dtype='object')"
            ]
          },
          "execution_count": 10,
          "metadata": {},
          "output_type": "execute_result"
        }
      ],
      "source": [
        "lm_out = results_lm.pvalues[results_lm.pvalues>0.1].index\n",
        "lm_out"
      ]
    },
    {
      "attachments": {},
      "cell_type": "markdown",
      "metadata": {
        "id": "4Y7MrAcoxotw"
      },
      "source": [
        "### Pipelines"
      ]
    },
    {
      "cell_type": "code",
      "execution_count": 9,
      "metadata": {
        "execution": {
          "iopub.execute_input": "2022-12-15T14:38:46.713870Z",
          "iopub.status.busy": "2022-12-15T14:38:46.713547Z",
          "iopub.status.idle": "2022-12-15T14:38:46.720920Z",
          "shell.execute_reply": "2022-12-15T14:38:46.719977Z",
          "shell.execute_reply.started": "2022-12-15T14:38:46.713839Z"
        },
        "id": "Ur8czjf8xotz",
        "trusted": true
      },
      "outputs": [],
      "source": [
        "num_transformer = Pipeline(\n",
        "    steps=[\n",
        "        # ('imputer', SimpleImputer(missing_values=np.nan, strategy=\"mean\")),\n",
        "        ('scaler', MinMaxScaler())\n",
        "        # ('scaler', StandardScaler())\n",
        "        # preprocessing.PowerTransformer(method='box-cox', standardize=False)\n",
        "    ])\n",
        "\n",
        "column_transformer = ColumnTransformer(\n",
        "    transformers=[\n",
        "        ('num_trans', num_transformer, num_features)\n",
        "    ], remainder='drop'\n",
        ")"
      ]
    },
    {
      "attachments": {},
      "cell_type": "markdown",
      "metadata": {
        "id": "EJxMBYqWxot1"
      },
      "source": [
        "#### train-test split"
      ]
    },
    {
      "cell_type": "code",
      "execution_count": 10,
      "metadata": {
        "execution": {
          "iopub.execute_input": "2022-12-15T14:39:32.724393Z",
          "iopub.status.busy": "2022-12-15T14:39:32.723944Z",
          "iopub.status.idle": "2022-12-15T14:39:32.734440Z",
          "shell.execute_reply": "2022-12-15T14:39:32.733274Z",
          "shell.execute_reply.started": "2022-12-15T14:39:32.724353Z"
        },
        "id": "pV_esEn1xot3",
        "trusted": true
      },
      "outputs": [],
      "source": [
        "X = df.drop(columns=['Feinstaub (PM2,5)'])\n",
        "y = df['Feinstaub (PM2,5)']\n",
        "\n",
        "Xtrain, Xtest, ytrain, ytest = train_test_split(X, y, test_size=0.25, random_state=42)"
      ]
    },
    {
      "attachments": {},
      "cell_type": "markdown",
      "metadata": {
        "id": "l19I-mH7xot5"
      },
      "source": [
        "#### Linear Regression"
      ]
    },
    {
      "cell_type": "code",
      "execution_count": 11,
      "metadata": {
        "id": "Qulb0wvSxot5"
      },
      "outputs": [],
      "source": [
        "lm_pipeline = Pipeline(\n",
        "    [\n",
        "        ('col_trans', column_transformer),\n",
        "        ('model', LinearRegression())\n",
        "    ])\n",
        "\n",
        "hyperparams_lm = {\n",
        "    'col_trans__num_trans__scaler': [MinMaxScaler(), StandardScaler()],\n",
        "}"
      ]
    },
    {
      "cell_type": "code",
      "execution_count": 32,
      "metadata": {
        "colab": {
          "base_uri": "https://localhost:8080/"
        },
        "id": "GJ3M3Ijsxot7",
        "outputId": "789923f3-1bc8-4a6e-9794-15febae4dc29"
      },
      "outputs": [
        {
          "data": {
            "text/plain": [
              "Pipeline(steps=[('col_trans',\n",
              "                 ColumnTransformer(transformers=[('num_trans',\n",
              "                                                  Pipeline(steps=[('scaler',\n",
              "                                                                   MinMaxScaler())]),\n",
              "                                                  Index(['q_kfz_mq_hr', 'v_kfz_mq_hr', 'LUFTTEMPERATUR', 'REL_FEUCHTE',\n",
              "       'NIEDERSCHLAGSHOEHE', 'WINDGESCHWINDIGKEIT', 'SONNENSCHEINDAUER',\n",
              "       'mean_q', 'min_q', 'max_q', 'std_q', 'skew_q', 'kurt_q', 'mean_v',\n",
              "       'min_v', 'max_v', 'std_v', 'skew_v', 'kurt_v', 'q_kfz_lag1',\n",
              "       'q_kfz_lag2', 'q_kfz_lag3', 'q_kfz_lag6', 'q_kfz_lag12', 'q_kfz_lag24',\n",
              "       'v_kfz_lag1', 'v_kfz_lag2', 'v_kfz_lag3', 'v_kfz_lag6', 'v_kfz_lag12',\n",
              "       'v_kfz_lag24', 'hour_sin', 'hour_cos', 'weekday_sin', 'weekday_cos',\n",
              "       'month_sin', 'month_cos', 'winddir_cos', 'winddir_sin'],\n",
              "      dtype='object'))])),\n",
              "                ('model', LinearRegression())])"
            ]
          },
          "execution_count": 32,
          "metadata": {},
          "output_type": "execute_result"
        }
      ],
      "source": [
        "lm_pipeline.fit(Xtrain, ytrain)"
      ]
    },
    {
      "cell_type": "code",
      "execution_count": 33,
      "metadata": {
        "colab": {
          "base_uri": "https://localhost:8080/"
        },
        "id": "F01yH4tvxot9",
        "outputId": "3fb97053-68b1-41ed-8a2d-43909a1568ba"
      },
      "outputs": [
        {
          "name": "stdout",
          "output_type": "stream",
          "text": [
            "Fitting 5 folds for each of 2 candidates, totalling 10 fits\n"
          ]
        },
        {
          "data": {
            "text/plain": [
              "GridSearchCV(cv=5,\n",
              "             estimator=Pipeline(steps=[('col_trans',\n",
              "                                        ColumnTransformer(transformers=[('num_trans',\n",
              "                                                                         Pipeline(steps=[('scaler',\n",
              "                                                                                          MinMaxScaler())]),\n",
              "                                                                         Index(['q_kfz_mq_hr', 'v_kfz_mq_hr', 'LUFTTEMPERATUR', 'REL_FEUCHTE',\n",
              "       'NIEDERSCHLAGSHOEHE', 'WINDGESCHWINDIGKEIT', 'SONNENSCHEINDAUER',\n",
              "       'mean_q', 'min_q', 'max_q', 'std_q', 'skew_q', 'kurt_q', 'mean_v',\n",
              "       'min_v', 'max_v'...\n",
              "       'q_kfz_lag2', 'q_kfz_lag3', 'q_kfz_lag6', 'q_kfz_lag12', 'q_kfz_lag24',\n",
              "       'v_kfz_lag1', 'v_kfz_lag2', 'v_kfz_lag3', 'v_kfz_lag6', 'v_kfz_lag12',\n",
              "       'v_kfz_lag24', 'hour_sin', 'hour_cos', 'weekday_sin', 'weekday_cos',\n",
              "       'month_sin', 'month_cos', 'winddir_cos', 'winddir_sin'],\n",
              "      dtype='object'))])),\n",
              "                                       ('model', LinearRegression())]),\n",
              "             param_grid={'col_trans__num_trans__scaler': [MinMaxScaler(),\n",
              "                                                          StandardScaler()]},\n",
              "             verbose=True)"
            ]
          },
          "execution_count": 33,
          "metadata": {},
          "output_type": "execute_result"
        }
      ],
      "source": [
        "gs_lm = GridSearchCV(lm_pipeline, hyperparams_lm, cv = 5, verbose=True)\n",
        "gs_lm.fit(Xtrain, ytrain)"
      ]
    },
    {
      "cell_type": "code",
      "execution_count": 34,
      "metadata": {
        "colab": {
          "base_uri": "https://localhost:8080/"
        },
        "id": "u8fAjS9fxouM",
        "outputId": "17d9f405-c112-4590-cc71-5d6548a9d5e7"
      },
      "outputs": [
        {
          "name": "stdout",
          "output_type": "stream",
          "text": [
            "train score: 0.2915\n",
            "test score: 0.2751\n"
          ]
        }
      ],
      "source": [
        "ypred_lm = lm_pipeline.predict(Xtest)\n",
        "print(\"train score: %.4f\" % lm_pipeline.score(Xtrain, ytrain))\n",
        "print(\"test score: %.4f\" % lm_pipeline.score(Xtest, ytest))"
      ]
    },
    {
      "cell_type": "code",
      "execution_count": 35,
      "metadata": {
        "colab": {
          "base_uri": "https://localhost:8080/"
        },
        "id": "1dm1op8DxouO",
        "outputId": "5ec210f0-e881-4f51-ed25-3fd0ad932bee"
      },
      "outputs": [
        {
          "name": "stdout",
          "output_type": "stream",
          "text": [
            "0.29151669680923487 0.2750924423476272\n",
            "{'col_trans__num_trans__scaler': MinMaxScaler()}\n"
          ]
        }
      ],
      "source": [
        "ypred_lm_gs = gs_lm.predict(Xtrain)\n",
        "print(gs_lm.score(Xtrain, ytrain), gs_lm.score(Xtest, ytest))\n",
        "print(gs_lm.best_params_)"
      ]
    },
    {
      "cell_type": "code",
      "execution_count": 36,
      "metadata": {
        "colab": {
          "base_uri": "https://localhost:8080/"
        },
        "id": "HhjgexTmxouQ",
        "outputId": "f1cc3d14-a0a1-4f63-d877-658e220aba56"
      },
      "outputs": [
        {
          "name": "stdout",
          "output_type": "stream",
          "text": [
            "0.29151669680923487 0.2750924423476272\n"
          ]
        }
      ],
      "source": [
        "gs_lm = GridSearchCV(\n",
        "            lm_pipeline,\n",
        "            hyperparams_lm,\n",
        "            return_train_score=True,\n",
        "            cv = 5,\n",
        "            refit=True,\n",
        "            verbose=False\n",
        "            )\n",
        "gs_lm.fit(Xtrain, ytrain)\n",
        "print(gs_lm.score(Xtrain, ytrain), gs_lm.score(Xtest, ytest))"
      ]
    },
    {
      "cell_type": "code",
      "execution_count": 37,
      "metadata": {
        "colab": {
          "base_uri": "https://localhost:8080/"
        },
        "id": "YIfCYCoMxouT",
        "outputId": "283b9ca0-63a1-4f38-e06d-f81388a24239"
      },
      "outputs": [
        {
          "data": {
            "text/plain": [
              "(0.27523092584251296, 0.2929035350656346, array([0.27523093, 0.27523093]))"
            ]
          },
          "execution_count": 37,
          "metadata": {},
          "output_type": "execute_result"
        }
      ],
      "source": [
        "gs_lm.best_score_, gs_lm.cv_results_['mean_train_score'][0], gs_lm.cv_results_['mean_test_score']"
      ]
    },
    {
      "cell_type": "code",
      "execution_count": 38,
      "metadata": {
        "colab": {
          "base_uri": "https://localhost:8080/"
        },
        "id": "EUWlV-uQxouV",
        "outputId": "8b5a5b5f-fdb3-4f8a-a2d7-6486e0c0792b"
      },
      "outputs": [
        {
          "data": {
            "text/plain": [
              "{'mean_fit_time': array([0.0273252 , 0.02534599]),\n",
              " 'std_fit_time': array([0.00977696, 0.00997102]),\n",
              " 'mean_score_time': array([0.00844603, 0.00715203]),\n",
              " 'std_score_time': array([0.00289134, 0.0027673 ]),\n",
              " 'param_col_trans__num_trans__scaler': masked_array(data=[MinMaxScaler(), StandardScaler()],\n",
              "              mask=[False, False],\n",
              "        fill_value='?',\n",
              "             dtype=object),\n",
              " 'params': [{'col_trans__num_trans__scaler': MinMaxScaler()},\n",
              "  {'col_trans__num_trans__scaler': StandardScaler()}],\n",
              " 'split0_test_score': array([0.29192633, 0.29192633]),\n",
              " 'split1_test_score': array([0.25945847, 0.25945847]),\n",
              " 'split2_test_score': array([0.2699716, 0.2699716]),\n",
              " 'split3_test_score': array([0.29346312, 0.29346312]),\n",
              " 'split4_test_score': array([0.2613351, 0.2613351]),\n",
              " 'mean_test_score': array([0.27523093, 0.27523093]),\n",
              " 'std_test_score': array([0.01470153, 0.01470153]),\n",
              " 'rank_test_score': array([1, 2], dtype=int32),\n",
              " 'split0_train_score': array([0.28881297, 0.28881297]),\n",
              " 'split1_train_score': array([0.29710241, 0.29710241]),\n",
              " 'split2_train_score': array([0.29577846, 0.29577846]),\n",
              " 'split3_train_score': array([0.28842943, 0.28842943]),\n",
              " 'split4_train_score': array([0.2943944, 0.2943944]),\n",
              " 'mean_train_score': array([0.29290354, 0.29290354]),\n",
              " 'std_train_score': array([0.00360191, 0.00360191])}"
            ]
          },
          "execution_count": 38,
          "metadata": {},
          "output_type": "execute_result"
        }
      ],
      "source": [
        "gs_lm.cv_results_"
      ]
    },
    {
      "attachments": {},
      "cell_type": "markdown",
      "metadata": {
        "id": "OaCmO1LhxouX"
      },
      "source": [
        "#### Polynomial Regression"
      ]
    },
    {
      "cell_type": "code",
      "execution_count": 12,
      "metadata": {
        "id": "ZPxxGVL_xouY"
      },
      "outputs": [],
      "source": [
        "lm_poly_pipeline = Pipeline(\n",
        "    [\n",
        "        ('col_trans', column_transformer),\n",
        "        ('polyFeat', PolynomialFeatures(degree=2, interaction_only=False, include_bias=False)),# num_features\n",
        "        ('model', LinearRegression())\n",
        "    ])\n",
        "\n",
        "hyperparams_lm_poly = {\n",
        "    'col_trans__num_trans__scaler': [MinMaxScaler(), StandardScaler()],\n",
        "    'polyFeat__interaction_only': [True, False],\n",
        "    'polyFeat__degree': [1, 2, 3],\n",
        "    'polyFeat__include_bias': [True, False]\n",
        "}"
      ]
    },
    {
      "cell_type": "code",
      "execution_count": 13,
      "metadata": {
        "id": "1dxnQ5PCxouZ"
      },
      "outputs": [],
      "source": [
        "#lm_poly_pipeline.get_params()"
      ]
    },
    {
      "cell_type": "code",
      "execution_count": 14,
      "metadata": {
        "colab": {
          "base_uri": "https://localhost:8080/"
        },
        "id": "RhFdW_kXxoua",
        "outputId": "26e4becf-0b59-49d4-891e-347c59379a48"
      },
      "outputs": [
        {
          "data": {
            "text/plain": [
              "Pipeline(steps=[('col_trans',\n",
              "                 ColumnTransformer(transformers=[('num_trans',\n",
              "                                                  Pipeline(steps=[('scaler',\n",
              "                                                                   MinMaxScaler())]),\n",
              "                                                  Index(['q_kfz_mq_hr', 'v_kfz_mq_hr', 'LUFTTEMPERATUR', 'REL_FEUCHTE',\n",
              "       'NIEDERSCHLAGSHOEHE', 'WINDGESCHWINDIGKEIT', 'SONNENSCHEINDAUER',\n",
              "       'mean_q', 'min_q', 'max_q', 'std_q', 'skew_q', 'kurt_q', 'mean_v',\n",
              "       'min_v', 'max_v', 'std_v', 'skew_v', 'kurt_v', '...\n",
              "       'q_kfz_lag2', 'q_kfz_lag3', 'q_kfz_lag6', 'q_kfz_lag12', 'q_kfz_lag24',\n",
              "       'v_kfz_lag1', 'v_kfz_lag2', 'v_kfz_lag3', 'v_kfz_lag6', 'v_kfz_lag12',\n",
              "       'v_kfz_lag24', 'hour_sin', 'hour_cos', 'weekday_sin', 'weekday_cos',\n",
              "       'month_sin', 'month_cos', 'winddir_cos', 'winddir_sin'],\n",
              "      dtype='object'))])),\n",
              "                ('polyFeat', PolynomialFeatures(include_bias=False)),\n",
              "                ('model', LinearRegression())])"
            ]
          },
          "execution_count": 14,
          "metadata": {},
          "output_type": "execute_result"
        }
      ],
      "source": [
        "lm_poly_pipeline.fit(Xtrain, ytrain)"
      ]
    },
    {
      "cell_type": "code",
      "execution_count": 15,
      "metadata": {
        "colab": {
          "base_uri": "https://localhost:8080/"
        },
        "id": "dURau63qxoub",
        "outputId": "2fdeb51a-10eb-4f79-9ae8-8d4265442bb2"
      },
      "outputs": [
        {
          "name": "stdout",
          "output_type": "stream",
          "text": [
            "train score: 0.6399\n",
            "test score: 0.4857\n"
          ]
        }
      ],
      "source": [
        "ypred_poly = lm_poly_pipeline.predict(Xtrain)\n",
        "print(\"train score: %.4f\" % lm_poly_pipeline.score(Xtrain, ytrain))\n",
        "print(\"test score: %.4f\" % lm_poly_pipeline.score(Xtest, ytest))"
      ]
    },
    {
      "cell_type": "code",
      "execution_count": 16,
      "metadata": {
        "colab": {
          "base_uri": "https://localhost:8080/"
        },
        "id": "RInoHb6Oxoue",
        "outputId": "86793ffc-a635-4f4c-e502-7b67d87f58e6"
      },
      "outputs": [
        {
          "name": "stdout",
          "output_type": "stream",
          "text": [
            "Fitting 5 folds for each of 24 candidates, totalling 120 fits\n"
          ]
        },
        {
          "data": {
            "text/plain": [
              "GridSearchCV(cv=5,\n",
              "             estimator=Pipeline(steps=[('col_trans',\n",
              "                                        ColumnTransformer(transformers=[('num_trans',\n",
              "                                                                         Pipeline(steps=[('scaler',\n",
              "                                                                                          MinMaxScaler())]),\n",
              "                                                                         Index(['q_kfz_mq_hr', 'v_kfz_mq_hr', 'LUFTTEMPERATUR', 'REL_FEUCHTE',\n",
              "       'NIEDERSCHLAGSHOEHE', 'WINDGESCHWINDIGKEIT', 'SONNENSCHEINDAUER',\n",
              "       'mean_q', 'min_q', 'max_q', 'std_q', 'skew_q', 'kurt_q', 'mean_v',\n",
              "       'min_v', 'max_v'...\n",
              "       'month_sin', 'month_cos', 'winddir_cos', 'winddir_sin'],\n",
              "      dtype='object'))])),\n",
              "                                       ('polyFeat',\n",
              "                                        PolynomialFeatures(include_bias=False)),\n",
              "                                       ('model', LinearRegression())]),\n",
              "             param_grid={'col_trans__num_trans__scaler': [MinMaxScaler(),\n",
              "                                                          StandardScaler()],\n",
              "                         'polyFeat__degree': [1, 2, 3],\n",
              "                         'polyFeat__include_bias': [True, False],\n",
              "                         'polyFeat__interaction_only': [True, False]},\n",
              "             verbose=True)"
            ]
          },
          "execution_count": 16,
          "metadata": {},
          "output_type": "execute_result"
        }
      ],
      "source": [
        "gs_poly = GridSearchCV(lm_poly_pipeline, hyperparams_lm_poly, cv = 5, verbose=True)\n",
        "gs_poly.fit(Xtrain, ytrain)"
      ]
    },
    {
      "cell_type": "code",
      "execution_count": 17,
      "metadata": {
        "colab": {
          "base_uri": "https://localhost:8080/"
        },
        "id": "xdk_AhuMxouf",
        "outputId": "f3da6ef7-fb7a-41b6-aeb7-670fb5f1db28"
      },
      "outputs": [
        {
          "name": "stdout",
          "output_type": "stream",
          "text": [
            "0.6266424746944786 0.46803945653843326\n",
            "{'col_trans__num_trans__scaler': StandardScaler(), 'polyFeat__degree': 2, 'polyFeat__include_bias': True, 'polyFeat__interaction_only': True}\n"
          ]
        }
      ],
      "source": [
        "ypred_poly_gs = gs_poly.predict(Xtrain)\n",
        "print(gs_poly.score(Xtrain, ytrain), gs_poly.score(Xtest, ytest))\n",
        "print(gs_poly.best_params_)"
      ]
    },
    {
      "attachments": {},
      "cell_type": "markdown",
      "metadata": {
        "id": "a-FzO0wGxouh"
      },
      "source": [
        "#### Random Forest"
      ]
    },
    {
      "cell_type": "code",
      "execution_count": null,
      "metadata": {
        "id": "S10jw814xoui"
      },
      "outputs": [],
      "source": [
        "rf_pipeline = Pipeline(\n",
        "    steps = [\n",
        "        ('col_trans', column_transformer),\n",
        "        ('model', RandomForestRegressor(n_estimators=300, max_depth=10, random_state=10, max_features='sqrt'))\n",
        "])\n",
        "\n",
        "hyperparams_rf = {\n",
        "    #'preprocessor__pipeline-2__simpleimputer__strategy': ['mean', 'median'],\n",
        "    'model__max_depth': [3, 4, 5, 10, 20, 50], \n",
        "    'model__n_estimators': [10, 100, 200, 500, 1000],\n",
        "    'model__maxfeatures': ['sqrt', 'log2']\n",
        "}"
      ]
    },
    {
      "cell_type": "code",
      "execution_count": null,
      "metadata": {
        "id": "QwEEoqBKxouk",
        "outputId": "51015029-fccf-4d11-ad75-6eb25652d701"
      },
      "outputs": [
        {
          "data": {
            "text/plain": [
              "Pipeline(steps=[('col_trans',\n",
              "                 ColumnTransformer(transformers=[('num_trans',\n",
              "                                                  Pipeline(steps=[('scaler',\n",
              "                                                                   MinMaxScaler())]),\n",
              "                                                  Index(['q_kfz_mq_hr', 'v_kfz_mq_hr', 'LUFTTEMPERATUR', 'REL_FEUCHTE',\n",
              "       'NIEDERSCHLAGSHOEHE', 'WINDGESCHWINDIGKEIT', 'SONNENSCHEINDAUER',\n",
              "       'mean_q', 'min_q', 'max_q', 'std_q', 'skew_q', 'kurt_q', 'mean_v',\n",
              "       'min_v', 'max_v', 'std_v', 'skew_v', 'kurt_v', '...\n",
              "       'q_kfz_lag2', 'q_kfz_lag3', 'q_kfz_lag6', 'q_kfz_lag12', 'q_kfz_lag24',\n",
              "       'v_kfz_lag1', 'v_kfz_lag2', 'v_kfz_lag3', 'v_kfz_lag6', 'v_kfz_lag12',\n",
              "       'v_kfz_lag24', 'hour_sin', 'hour_cos', 'weekday_sin', 'weekday_cos',\n",
              "       'month_sin', 'month_cos', 'winddir_cos', 'winddir_sin'],\n",
              "      dtype='object'))])),\n",
              "                ('model',\n",
              "                 RandomForestRegressor(max_depth=10, max_features='sqrt',\n",
              "                                       n_estimators=300, random_state=10))])"
            ]
          },
          "execution_count": 59,
          "metadata": {},
          "output_type": "execute_result"
        }
      ],
      "source": [
        "rf_pipeline.fit(Xtrain, ytrain)"
      ]
    },
    {
      "cell_type": "code",
      "execution_count": null,
      "metadata": {
        "id": "dTC3DRSDxouk",
        "outputId": "c84e00fb-b71b-41d5-9dfe-429efde9aad3"
      },
      "outputs": [
        {
          "name": "stdout",
          "output_type": "stream",
          "text": [
            "train score: 0.7747\n",
            "test score: 0.6113\n"
          ]
        }
      ],
      "source": [
        "ypred_rf = rf_pipeline.predict(Xtrain)\n",
        "print(\"train score: %.4f\" % rf_pipeline.score(Xtrain, ytrain))\n",
        "print(\"test score: %.4f\" % rf_pipeline.score(Xtest, ytest))"
      ]
    },
    {
      "cell_type": "code",
      "execution_count": null,
      "metadata": {
        "id": "liKHBv0kxoul"
      },
      "outputs": [],
      "source": [
        "rf_feature_importance = pd.DataFrame(zip(Xtrain.columns, rf_pipeline.named_steps['model'].feature_importances_), columns=['feature', 'importance'])\n",
        "rf_feature_importance['abs_value'] = rf_feature_importance['importance'].apply(lambda x: abs(x))\n",
        "rf_feature_importance = rf_feature_importance.sort_values('abs_value', ascending=False)"
      ]
    },
    {
      "cell_type": "code",
      "execution_count": null,
      "metadata": {
        "id": "Qv4eXX02xoum",
        "outputId": "3895360e-9968-4da6-a203-d8fbf2b0ba06"
      },
      "outputs": [
        {
          "data": {
            "text/plain": [
              "<AxesSubplot:xlabel='importance', ylabel='feature'>"
            ]
          },
          "execution_count": 28,
          "metadata": {},
          "output_type": "execute_result"
        },
        {
          "data": {
            "image/png": "[encoded data removed]",
            "text/plain": [
              "<Figure size 1200x1000 with 1 Axes>"
            ]
          },
          "metadata": {},
          "output_type": "display_data"
        }
      ],
      "source": [
        "sns.set(rc={\"figure.figsize\":(12, 10)})\n",
        "_ = plt.figure()\n",
        "img = sns.barplot(y='feature', x='importance', data=rf_feature_importance)\n",
        "fig = img.get_figure()\n",
        "fig.savefig('plots/merged/Mariendorfer/RF_feature_importance.png', bbox_inches=\"tight\")"
      ]
    },
    {
      "cell_type": "code",
      "execution_count": null,
      "metadata": {
        "id": "8TiQouYtxoun"
      },
      "outputs": [],
      "source": [
        "features_out_rf = rf_feature_importance[rf_feature_importance['importance']<0.015]['feature'].values"
      ]
    },
    {
      "cell_type": "code",
      "execution_count": null,
      "metadata": {
        "id": "FPa6FuChxouo"
      },
      "outputs": [],
      "source": [
        "gs_rf = GridSearchCV(rf_pipeline, hyperparams_rf, cv = 5 , verbose=True)\n",
        "#gs_rf.fit(Xtrain, ytrain)"
      ]
    },
    {
      "cell_type": "code",
      "execution_count": null,
      "metadata": {
        "id": "Cx3Aa_vGxouo"
      },
      "outputs": [],
      "source": [
        "ypred_gs_rf = gs_rf.predict(Xtrain)\n",
        "print(gs_rf.score(Xtrain, ytrain), gs_rf.score(Xtest, ytest))\n",
        "print(gs_rf.best_params_)"
      ]
    },
    {
      "attachments": {},
      "cell_type": "markdown",
      "metadata": {
        "id": "cm4RKRHUxoup"
      },
      "source": [
        "#### Feature Importance / Feature elimination"
      ]
    },
    {
      "cell_type": "code",
      "execution_count": null,
      "metadata": {
        "id": "uh3qCqOpxoup"
      },
      "outputs": [],
      "source": [
        "from sklearn.feature_selection import RFE"
      ]
    },
    {
      "cell_type": "code",
      "execution_count": null,
      "metadata": {
        "id": "gVKtupWDxouq"
      },
      "outputs": [],
      "source": [
        "#rfe = RFE(lm_pipeline)\n",
        "#rfe.fit(Xtrain, ytrain)"
      ]
    },
    {
      "cell_type": "code",
      "execution_count": null,
      "metadata": {
        "id": "nLRcwheExouq"
      },
      "outputs": [],
      "source": [
        "# rfe.support_\n",
        "# rfe.ranking_"
      ]
    },
    {
      "cell_type": "code",
      "execution_count": null,
      "metadata": {
        "id": "h-x72knzxour"
      },
      "outputs": [],
      "source": [
        "lm_out"
      ]
    },
    {
      "cell_type": "code",
      "execution_count": null,
      "metadata": {
        "id": "rFnXSyTbxous"
      },
      "outputs": [],
      "source": [
        "features_out_rf"
      ]
    },
    {
      "cell_type": "code",
      "execution_count": null,
      "metadata": {
        "id": "RYf9o21wxouu"
      },
      "outputs": [],
      "source": [
        "np.intersect1d(lm_out, features_out_rf)"
      ]
    },
    {
      "cell_type": "code",
      "execution_count": null,
      "metadata": {
        "id": "17vl4cPNxouv"
      },
      "outputs": [],
      "source": []
    },
    {
      "attachments": {},
      "cell_type": "markdown",
      "metadata": {
        "id": "doFqC0vNxoux"
      },
      "source": [
        "### Functions for testing"
      ]
    },
    {
      "cell_type": "code",
      "execution_count": null,
      "metadata": {
        "id": "y9f81LLTxouz"
      },
      "outputs": [],
      "source": [
        "# model_pipes = {\n",
        "#     'Linear Regression': lm_pipeline,\n",
        "#     'Polynomial Linear Regression': lm_poly_pipeline,\n",
        "#     'Random Forest': rf_pipeline}\n",
        "model_pipes = {\n",
        "    'Linear Regression': lm_pipeline,\n",
        "    'Polynomial Linear Regression': lm_poly_pipeline,\n",
        "    'Random Forest': rf_pipeline,\n",
        "    'GridSearch Linear Regression': gs_lm,\n",
        "    'GridSearch Polynomial Linear Regression': gs_poly,\n",
        "    'GridSearch Random Forest': gs_rf\n",
        "    }\n",
        "\n",
        "model_names = model_pipes.keys()\n",
        "\n",
        "def run_model(model_pipeline, dig=2, use_gs=False):\n",
        "    '''\n",
        "    run model\n",
        "    print train and test accuracy of model\n",
        "    In case of GridSearch model: print best parameter set\n",
        "    '''\n",
        "    print(model_pipeline.upper())\n",
        "    model_pipes[model_pipeline].fit(Xtrain, ytrain)\n",
        "    ypred = model_pipes[model_pipeline].predict(Xtest)\n",
        "    print('accuracy: ', 'train:', round(model_pipes[model_pipeline].score(Xtrain, ytrain), dig),\n",
        "                        'test:', round(model_pipes[model_pipeline].score(Xtest, ytest), dig))\n",
        "    if use_gs:\n",
        "        print(model_pipeline.best_params)\n",
        "    print('-------------------------------------\\n')"
      ]
    },
    {
      "cell_type": "code",
      "execution_count": null,
      "metadata": {
        "id": "REuq63Sjxou1",
        "outputId": "25ed2f12-552f-401a-c841-a1c288fcfde4"
      },
      "outputs": [
        {
          "name": "stdout",
          "output_type": "stream",
          "text": [
            "Linear Regression\n",
            "LINEAR REGRESSION\n",
            "accuracy:  train: 0.29 test: 0.28\n",
            "-------------------------------------\n",
            "\n",
            "Polynomial Linear Regression\n",
            "POLYNOMIAL LINEAR REGRESSION\n",
            "accuracy:  train: 0.64 test: 0.49\n",
            "-------------------------------------\n",
            "\n",
            "Random Forest\n",
            "RANDOM FOREST\n",
            "accuracy:  train: 0.77 test: 0.61\n",
            "-------------------------------------\n",
            "\n",
            "GridSearch Linear Regression\n",
            "GRIDSEARCH LINEAR REGRESSION\n",
            "Fitting 5 folds for each of 2 candidates, totalling 10 fits\n",
            "accuracy:  train: 0.29 test: 0.28\n",
            "-------------------------------------\n",
            "\n",
            "GridSearch Polynomial Linear Regression\n",
            "GRIDSEARCH POLYNOMIAL LINEAR REGRESSION\n",
            "Fitting 5 folds for each of 32 candidates, totalling 160 fits\n"
          ]
        },
        {
          "ename": "KeyboardInterrupt",
          "evalue": "",
          "output_type": "error",
          "traceback": [
            "\u001b[0;31m---------------------------------------------------------------------------\u001b[0m",
            "\u001b[0;31mKeyboardInterrupt\u001b[0m                         Traceback (most recent call last)",
            "\u001b[0;32m/tmp/ipykernel_6518/1374531954.py\u001b[0m in \u001b[0;36m<module>\u001b[0;34m\u001b[0m\n\u001b[1;32m      1\u001b[0m \u001b[0;32mfor\u001b[0m \u001b[0mmodel\u001b[0m \u001b[0;32min\u001b[0m \u001b[0mmodel_names\u001b[0m\u001b[0;34m:\u001b[0m\u001b[0;34m\u001b[0m\u001b[0;34m\u001b[0m\u001b[0m\n\u001b[1;32m      2\u001b[0m     \u001b[0mprint\u001b[0m\u001b[0;34m(\u001b[0m\u001b[0mmodel\u001b[0m\u001b[0;34m)\u001b[0m\u001b[0;34m\u001b[0m\u001b[0;34m\u001b[0m\u001b[0m\n\u001b[0;32m----> 3\u001b[0;31m     \u001b[0mrun_model\u001b[0m\u001b[0;34m(\u001b[0m\u001b[0mmodel\u001b[0m\u001b[0;34m)\u001b[0m\u001b[0;34m\u001b[0m\u001b[0;34m\u001b[0m\u001b[0m\n\u001b[0m",
            "\u001b[0;32m/tmp/ipykernel_6518/2735667831.py\u001b[0m in \u001b[0;36mrun_model\u001b[0;34m(model_pipeline, dig, use_gs)\u001b[0m\n\u001b[1;32m     21\u001b[0m     '''\n\u001b[1;32m     22\u001b[0m     \u001b[0mprint\u001b[0m\u001b[0;34m(\u001b[0m\u001b[0mmodel_pipeline\u001b[0m\u001b[0;34m.\u001b[0m\u001b[0mupper\u001b[0m\u001b[0;34m(\u001b[0m\u001b[0;34m)\u001b[0m\u001b[0;34m)\u001b[0m\u001b[0;34m\u001b[0m\u001b[0;34m\u001b[0m\u001b[0m\n\u001b[0;32m---> 23\u001b[0;31m     \u001b[0mmodel_pipes\u001b[0m\u001b[0;34m[\u001b[0m\u001b[0mmodel_pipeline\u001b[0m\u001b[0;34m]\u001b[0m\u001b[0;34m.\u001b[0m\u001b[0mfit\u001b[0m\u001b[0;34m(\u001b[0m\u001b[0mXtrain\u001b[0m\u001b[0;34m,\u001b[0m \u001b[0mytrain\u001b[0m\u001b[0;34m)\u001b[0m\u001b[0;34m\u001b[0m\u001b[0;34m\u001b[0m\u001b[0m\n\u001b[0m\u001b[1;32m     24\u001b[0m     \u001b[0mypred\u001b[0m \u001b[0;34m=\u001b[0m \u001b[0mmodel_pipes\u001b[0m\u001b[0;34m[\u001b[0m\u001b[0mmodel_pipeline\u001b[0m\u001b[0;34m]\u001b[0m\u001b[0;34m.\u001b[0m\u001b[0mpredict\u001b[0m\u001b[0;34m(\u001b[0m\u001b[0mXtest\u001b[0m\u001b[0;34m)\u001b[0m\u001b[0;34m\u001b[0m\u001b[0;34m\u001b[0m\u001b[0m\n\u001b[1;32m     25\u001b[0m     print('accuracy: ', 'train:', round(model_pipes[model_pipeline].score(Xtrain, ytrain), dig),\n",
            "\u001b[0;32m~/anaconda3/lib/python3.9/site-packages/sklearn/model_selection/_search.py\u001b[0m in \u001b[0;36mfit\u001b[0;34m(self, X, y, groups, **fit_params)\u001b[0m\n\u001b[1;32m    889\u001b[0m                 \u001b[0;32mreturn\u001b[0m \u001b[0mresults\u001b[0m\u001b[0;34m\u001b[0m\u001b[0;34m\u001b[0m\u001b[0m\n\u001b[1;32m    890\u001b[0m \u001b[0;34m\u001b[0m\u001b[0m\n\u001b[0;32m--> 891\u001b[0;31m             \u001b[0mself\u001b[0m\u001b[0;34m.\u001b[0m\u001b[0m_run_search\u001b[0m\u001b[0;34m(\u001b[0m\u001b[0mevaluate_candidates\u001b[0m\u001b[0;34m)\u001b[0m\u001b[0;34m\u001b[0m\u001b[0;34m\u001b[0m\u001b[0m\n\u001b[0m\u001b[1;32m    892\u001b[0m \u001b[0;34m\u001b[0m\u001b[0m\n\u001b[1;32m    893\u001b[0m             \u001b[0;31m# multimetric is determined here because in the case of a callable\u001b[0m\u001b[0;34m\u001b[0m\u001b[0;34m\u001b[0m\u001b[0m\n",
            "\u001b[0;32m~/anaconda3/lib/python3.9/site-packages/sklearn/model_selection/_search.py\u001b[0m in \u001b[0;36m_run_search\u001b[0;34m(self, evaluate_candidates)\u001b[0m\n\u001b[1;32m   1390\u001b[0m     \u001b[0;32mdef\u001b[0m \u001b[0m_run_search\u001b[0m\u001b[0;34m(\u001b[0m\u001b[0mself\u001b[0m\u001b[0;34m,\u001b[0m \u001b[0mevaluate_candidates\u001b[0m\u001b[0;34m)\u001b[0m\u001b[0;34m:\u001b[0m\u001b[0;34m\u001b[0m\u001b[0;34m\u001b[0m\u001b[0m\n\u001b[1;32m   1391\u001b[0m         \u001b[0;34m\"\"\"Search all candidates in param_grid\"\"\"\u001b[0m\u001b[0;34m\u001b[0m\u001b[0;34m\u001b[0m\u001b[0m\n\u001b[0;32m-> 1392\u001b[0;31m         \u001b[0mevaluate_candidates\u001b[0m\u001b[0;34m(\u001b[0m\u001b[0mParameterGrid\u001b[0m\u001b[0;34m(\u001b[0m\u001b[0mself\u001b[0m\u001b[0;34m.\u001b[0m\u001b[0mparam_grid\u001b[0m\u001b[0;34m)\u001b[0m\u001b[0;34m)\u001b[0m\u001b[0;34m\u001b[0m\u001b[0;34m\u001b[0m\u001b[0m\n\u001b[0m\u001b[1;32m   1393\u001b[0m \u001b[0;34m\u001b[0m\u001b[0m\n\u001b[1;32m   1394\u001b[0m \u001b[0;34m\u001b[0m\u001b[0m\n",
            "\u001b[0;32m~/anaconda3/lib/python3.9/site-packages/sklearn/model_selection/_search.py\u001b[0m in \u001b[0;36mevaluate_candidates\u001b[0;34m(candidate_params, cv, more_results)\u001b[0m\n\u001b[1;32m    836\u001b[0m                     )\n\u001b[1;32m    837\u001b[0m \u001b[0;34m\u001b[0m\u001b[0m\n\u001b[0;32m--> 838\u001b[0;31m                 out = parallel(\n\u001b[0m\u001b[1;32m    839\u001b[0m                     delayed(_fit_and_score)(\n\u001b[1;32m    840\u001b[0m                         \u001b[0mclone\u001b[0m\u001b[0;34m(\u001b[0m\u001b[0mbase_estimator\u001b[0m\u001b[0;34m)\u001b[0m\u001b[0;34m,\u001b[0m\u001b[0;34m\u001b[0m\u001b[0;34m\u001b[0m\u001b[0m\n",
            "\u001b[0;32m~/anaconda3/lib/python3.9/site-packages/joblib/parallel.py\u001b[0m in \u001b[0;36m__call__\u001b[0;34m(self, iterable)\u001b[0m\n\u001b[1;32m   1044\u001b[0m                 \u001b[0mself\u001b[0m\u001b[0;34m.\u001b[0m\u001b[0m_iterating\u001b[0m \u001b[0;34m=\u001b[0m \u001b[0mself\u001b[0m\u001b[0;34m.\u001b[0m\u001b[0m_original_iterator\u001b[0m \u001b[0;32mis\u001b[0m \u001b[0;32mnot\u001b[0m \u001b[0;32mNone\u001b[0m\u001b[0;34m\u001b[0m\u001b[0;34m\u001b[0m\u001b[0m\n\u001b[1;32m   1045\u001b[0m \u001b[0;34m\u001b[0m\u001b[0m\n\u001b[0;32m-> 1046\u001b[0;31m             \u001b[0;32mwhile\u001b[0m \u001b[0mself\u001b[0m\u001b[0;34m.\u001b[0m\u001b[0mdispatch_one_batch\u001b[0m\u001b[0;34m(\u001b[0m\u001b[0miterator\u001b[0m\u001b[0;34m)\u001b[0m\u001b[0;34m:\u001b[0m\u001b[0;34m\u001b[0m\u001b[0;34m\u001b[0m\u001b[0m\n\u001b[0m\u001b[1;32m   1047\u001b[0m                 \u001b[0;32mpass\u001b[0m\u001b[0;34m\u001b[0m\u001b[0;34m\u001b[0m\u001b[0m\n\u001b[1;32m   1048\u001b[0m \u001b[0;34m\u001b[0m\u001b[0m\n",
            "\u001b[0;32m~/anaconda3/lib/python3.9/site-packages/joblib/parallel.py\u001b[0m in \u001b[0;36mdispatch_one_batch\u001b[0;34m(self, iterator)\u001b[0m\n\u001b[1;32m    859\u001b[0m                 \u001b[0;32mreturn\u001b[0m \u001b[0;32mFalse\u001b[0m\u001b[0;34m\u001b[0m\u001b[0;34m\u001b[0m\u001b[0m\n\u001b[1;32m    860\u001b[0m             \u001b[0;32melse\u001b[0m\u001b[0;34m:\u001b[0m\u001b[0;34m\u001b[0m\u001b[0;34m\u001b[0m\u001b[0m\n\u001b[0;32m--> 861\u001b[0;31m                 \u001b[0mself\u001b[0m\u001b[0;34m.\u001b[0m\u001b[0m_dispatch\u001b[0m\u001b[0;34m(\u001b[0m\u001b[0mtasks\u001b[0m\u001b[0;34m)\u001b[0m\u001b[0;34m\u001b[0m\u001b[0;34m\u001b[0m\u001b[0m\n\u001b[0m\u001b[1;32m    862\u001b[0m                 \u001b[0;32mreturn\u001b[0m \u001b[0;32mTrue\u001b[0m\u001b[0;34m\u001b[0m\u001b[0;34m\u001b[0m\u001b[0m\n\u001b[1;32m    863\u001b[0m \u001b[0;34m\u001b[0m\u001b[0m\n",
            "\u001b[0;32m~/anaconda3/lib/python3.9/site-packages/joblib/parallel.py\u001b[0m in \u001b[0;36m_dispatch\u001b[0;34m(self, batch)\u001b[0m\n\u001b[1;32m    777\u001b[0m         \u001b[0;32mwith\u001b[0m \u001b[0mself\u001b[0m\u001b[0;34m.\u001b[0m\u001b[0m_lock\u001b[0m\u001b[0;34m:\u001b[0m\u001b[0;34m\u001b[0m\u001b[0;34m\u001b[0m\u001b[0m\n\u001b[1;32m    778\u001b[0m             \u001b[0mjob_idx\u001b[0m \u001b[0;34m=\u001b[0m \u001b[0mlen\u001b[0m\u001b[0;34m(\u001b[0m\u001b[0mself\u001b[0m\u001b[0;34m.\u001b[0m\u001b[0m_jobs\u001b[0m\u001b[0;34m)\u001b[0m\u001b[0;34m\u001b[0m\u001b[0;34m\u001b[0m\u001b[0m\n\u001b[0;32m--> 779\u001b[0;31m             \u001b[0mjob\u001b[0m \u001b[0;34m=\u001b[0m \u001b[0mself\u001b[0m\u001b[0;34m.\u001b[0m\u001b[0m_backend\u001b[0m\u001b[0;34m.\u001b[0m\u001b[0mapply_async\u001b[0m\u001b[0;34m(\u001b[0m\u001b[0mbatch\u001b[0m\u001b[0;34m,\u001b[0m \u001b[0mcallback\u001b[0m\u001b[0;34m=\u001b[0m\u001b[0mcb\u001b[0m\u001b[0;34m)\u001b[0m\u001b[0;34m\u001b[0m\u001b[0;34m\u001b[0m\u001b[0m\n\u001b[0m\u001b[1;32m    780\u001b[0m             \u001b[0;31m# A job can complete so quickly than its callback is\u001b[0m\u001b[0;34m\u001b[0m\u001b[0;34m\u001b[0m\u001b[0m\n\u001b[1;32m    781\u001b[0m             \u001b[0;31m# called before we get here, causing self._jobs to\u001b[0m\u001b[0;34m\u001b[0m\u001b[0;34m\u001b[0m\u001b[0m\n",
            "\u001b[0;32m~/anaconda3/lib/python3.9/site-packages/joblib/_parallel_backends.py\u001b[0m in \u001b[0;36mapply_async\u001b[0;34m(self, func, callback)\u001b[0m\n\u001b[1;32m    206\u001b[0m     \u001b[0;32mdef\u001b[0m \u001b[0mapply_async\u001b[0m\u001b[0;34m(\u001b[0m\u001b[0mself\u001b[0m\u001b[0;34m,\u001b[0m \u001b[0mfunc\u001b[0m\u001b[0;34m,\u001b[0m \u001b[0mcallback\u001b[0m\u001b[0;34m=\u001b[0m\u001b[0;32mNone\u001b[0m\u001b[0;34m)\u001b[0m\u001b[0;34m:\u001b[0m\u001b[0;34m\u001b[0m\u001b[0;34m\u001b[0m\u001b[0m\n\u001b[1;32m    207\u001b[0m         \u001b[0;34m\"\"\"Schedule a func to be run\"\"\"\u001b[0m\u001b[0;34m\u001b[0m\u001b[0;34m\u001b[0m\u001b[0m\n\u001b[0;32m--> 208\u001b[0;31m         \u001b[0mresult\u001b[0m \u001b[0;34m=\u001b[0m \u001b[0mImmediateResult\u001b[0m\u001b[0;34m(\u001b[0m\u001b[0mfunc\u001b[0m\u001b[0;34m)\u001b[0m\u001b[0;34m\u001b[0m\u001b[0;34m\u001b[0m\u001b[0m\n\u001b[0m\u001b[1;32m    209\u001b[0m         \u001b[0;32mif\u001b[0m \u001b[0mcallback\u001b[0m\u001b[0;34m:\u001b[0m\u001b[0;34m\u001b[0m\u001b[0;34m\u001b[0m\u001b[0m\n\u001b[1;32m    210\u001b[0m             \u001b[0mcallback\u001b[0m\u001b[0;34m(\u001b[0m\u001b[0mresult\u001b[0m\u001b[0;34m)\u001b[0m\u001b[0;34m\u001b[0m\u001b[0;34m\u001b[0m\u001b[0m\n",
            "\u001b[0;32m~/anaconda3/lib/python3.9/site-packages/joblib/_parallel_backends.py\u001b[0m in \u001b[0;36m__init__\u001b[0;34m(self, batch)\u001b[0m\n\u001b[1;32m    570\u001b[0m         \u001b[0;31m# Don't delay the application, to avoid keeping the input\u001b[0m\u001b[0;34m\u001b[0m\u001b[0;34m\u001b[0m\u001b[0m\n\u001b[1;32m    571\u001b[0m         \u001b[0;31m# arguments in memory\u001b[0m\u001b[0;34m\u001b[0m\u001b[0;34m\u001b[0m\u001b[0m\n\u001b[0;32m--> 572\u001b[0;31m         \u001b[0mself\u001b[0m\u001b[0;34m.\u001b[0m\u001b[0mresults\u001b[0m \u001b[0;34m=\u001b[0m \u001b[0mbatch\u001b[0m\u001b[0;34m(\u001b[0m\u001b[0;34m)\u001b[0m\u001b[0;34m\u001b[0m\u001b[0;34m\u001b[0m\u001b[0m\n\u001b[0m\u001b[1;32m    573\u001b[0m \u001b[0;34m\u001b[0m\u001b[0m\n\u001b[1;32m    574\u001b[0m     \u001b[0;32mdef\u001b[0m \u001b[0mget\u001b[0m\u001b[0;34m(\u001b[0m\u001b[0mself\u001b[0m\u001b[0;34m)\u001b[0m\u001b[0;34m:\u001b[0m\u001b[0;34m\u001b[0m\u001b[0;34m\u001b[0m\u001b[0m\n",
            "\u001b[0;32m~/anaconda3/lib/python3.9/site-packages/joblib/parallel.py\u001b[0m in \u001b[0;36m__call__\u001b[0;34m(self)\u001b[0m\n\u001b[1;32m    260\u001b[0m         \u001b[0;31m# change the default number of processes to -1\u001b[0m\u001b[0;34m\u001b[0m\u001b[0;34m\u001b[0m\u001b[0m\n\u001b[1;32m    261\u001b[0m         \u001b[0;32mwith\u001b[0m \u001b[0mparallel_backend\u001b[0m\u001b[0;34m(\u001b[0m\u001b[0mself\u001b[0m\u001b[0;34m.\u001b[0m\u001b[0m_backend\u001b[0m\u001b[0;34m,\u001b[0m \u001b[0mn_jobs\u001b[0m\u001b[0;34m=\u001b[0m\u001b[0mself\u001b[0m\u001b[0;34m.\u001b[0m\u001b[0m_n_jobs\u001b[0m\u001b[0;34m)\u001b[0m\u001b[0;34m:\u001b[0m\u001b[0;34m\u001b[0m\u001b[0;34m\u001b[0m\u001b[0m\n\u001b[0;32m--> 262\u001b[0;31m             return [func(*args, **kwargs)\n\u001b[0m\u001b[1;32m    263\u001b[0m                     for func, args, kwargs in self.items]\n\u001b[1;32m    264\u001b[0m \u001b[0;34m\u001b[0m\u001b[0m\n",
            "\u001b[0;32m~/anaconda3/lib/python3.9/site-packages/joblib/parallel.py\u001b[0m in \u001b[0;36m<listcomp>\u001b[0;34m(.0)\u001b[0m\n\u001b[1;32m    260\u001b[0m         \u001b[0;31m# change the default number of processes to -1\u001b[0m\u001b[0;34m\u001b[0m\u001b[0;34m\u001b[0m\u001b[0m\n\u001b[1;32m    261\u001b[0m         \u001b[0;32mwith\u001b[0m \u001b[0mparallel_backend\u001b[0m\u001b[0;34m(\u001b[0m\u001b[0mself\u001b[0m\u001b[0;34m.\u001b[0m\u001b[0m_backend\u001b[0m\u001b[0;34m,\u001b[0m \u001b[0mn_jobs\u001b[0m\u001b[0;34m=\u001b[0m\u001b[0mself\u001b[0m\u001b[0;34m.\u001b[0m\u001b[0m_n_jobs\u001b[0m\u001b[0;34m)\u001b[0m\u001b[0;34m:\u001b[0m\u001b[0;34m\u001b[0m\u001b[0;34m\u001b[0m\u001b[0m\n\u001b[0;32m--> 262\u001b[0;31m             return [func(*args, **kwargs)\n\u001b[0m\u001b[1;32m    263\u001b[0m                     for func, args, kwargs in self.items]\n\u001b[1;32m    264\u001b[0m \u001b[0;34m\u001b[0m\u001b[0m\n",
            "\u001b[0;32m~/anaconda3/lib/python3.9/site-packages/sklearn/utils/fixes.py\u001b[0m in \u001b[0;36m__call__\u001b[0;34m(self, *args, **kwargs)\u001b[0m\n\u001b[1;32m    214\u001b[0m     \u001b[0;32mdef\u001b[0m \u001b[0m__call__\u001b[0m\u001b[0;34m(\u001b[0m\u001b[0mself\u001b[0m\u001b[0;34m,\u001b[0m \u001b[0;34m*\u001b[0m\u001b[0margs\u001b[0m\u001b[0;34m,\u001b[0m \u001b[0;34m**\u001b[0m\u001b[0mkwargs\u001b[0m\u001b[0;34m)\u001b[0m\u001b[0;34m:\u001b[0m\u001b[0;34m\u001b[0m\u001b[0;34m\u001b[0m\u001b[0m\n\u001b[1;32m    215\u001b[0m         \u001b[0;32mwith\u001b[0m \u001b[0mconfig_context\u001b[0m\u001b[0;34m(\u001b[0m\u001b[0;34m**\u001b[0m\u001b[0mself\u001b[0m\u001b[0;34m.\u001b[0m\u001b[0mconfig\u001b[0m\u001b[0;34m)\u001b[0m\u001b[0;34m:\u001b[0m\u001b[0;34m\u001b[0m\u001b[0;34m\u001b[0m\u001b[0m\n\u001b[0;32m--> 216\u001b[0;31m             \u001b[0;32mreturn\u001b[0m \u001b[0mself\u001b[0m\u001b[0;34m.\u001b[0m\u001b[0mfunction\u001b[0m\u001b[0;34m(\u001b[0m\u001b[0;34m*\u001b[0m\u001b[0margs\u001b[0m\u001b[0;34m,\u001b[0m \u001b[0;34m**\u001b[0m\u001b[0mkwargs\u001b[0m\u001b[0;34m)\u001b[0m\u001b[0;34m\u001b[0m\u001b[0;34m\u001b[0m\u001b[0m\n\u001b[0m\u001b[1;32m    217\u001b[0m \u001b[0;34m\u001b[0m\u001b[0m\n\u001b[1;32m    218\u001b[0m \u001b[0;34m\u001b[0m\u001b[0m\n",
            "\u001b[0;32m~/anaconda3/lib/python3.9/site-packages/sklearn/model_selection/_validation.py\u001b[0m in \u001b[0;36m_fit_and_score\u001b[0;34m(estimator, X, y, scorer, train, test, verbose, parameters, fit_params, return_train_score, return_parameters, return_n_test_samples, return_times, return_estimator, split_progress, candidate_progress, error_score)\u001b[0m\n\u001b[1;32m    678\u001b[0m             \u001b[0mestimator\u001b[0m\u001b[0;34m.\u001b[0m\u001b[0mfit\u001b[0m\u001b[0;34m(\u001b[0m\u001b[0mX_train\u001b[0m\u001b[0;34m,\u001b[0m \u001b[0;34m**\u001b[0m\u001b[0mfit_params\u001b[0m\u001b[0;34m)\u001b[0m\u001b[0;34m\u001b[0m\u001b[0;34m\u001b[0m\u001b[0m\n\u001b[1;32m    679\u001b[0m         \u001b[0;32melse\u001b[0m\u001b[0;34m:\u001b[0m\u001b[0;34m\u001b[0m\u001b[0;34m\u001b[0m\u001b[0m\n\u001b[0;32m--> 680\u001b[0;31m             \u001b[0mestimator\u001b[0m\u001b[0;34m.\u001b[0m\u001b[0mfit\u001b[0m\u001b[0;34m(\u001b[0m\u001b[0mX_train\u001b[0m\u001b[0;34m,\u001b[0m \u001b[0my_train\u001b[0m\u001b[0;34m,\u001b[0m \u001b[0;34m**\u001b[0m\u001b[0mfit_params\u001b[0m\u001b[0;34m)\u001b[0m\u001b[0;34m\u001b[0m\u001b[0;34m\u001b[0m\u001b[0m\n\u001b[0m\u001b[1;32m    681\u001b[0m \u001b[0;34m\u001b[0m\u001b[0m\n\u001b[1;32m    682\u001b[0m     \u001b[0;32mexcept\u001b[0m \u001b[0mException\u001b[0m\u001b[0;34m:\u001b[0m\u001b[0;34m\u001b[0m\u001b[0;34m\u001b[0m\u001b[0m\n",
            "\u001b[0;32m~/anaconda3/lib/python3.9/site-packages/sklearn/pipeline.py\u001b[0m in \u001b[0;36mfit\u001b[0;34m(self, X, y, **fit_params)\u001b[0m\n\u001b[1;32m    388\u001b[0m         \"\"\"\n\u001b[1;32m    389\u001b[0m         \u001b[0mfit_params_steps\u001b[0m \u001b[0;34m=\u001b[0m \u001b[0mself\u001b[0m\u001b[0;34m.\u001b[0m\u001b[0m_check_fit_params\u001b[0m\u001b[0;34m(\u001b[0m\u001b[0;34m**\u001b[0m\u001b[0mfit_params\u001b[0m\u001b[0;34m)\u001b[0m\u001b[0;34m\u001b[0m\u001b[0;34m\u001b[0m\u001b[0m\n\u001b[0;32m--> 390\u001b[0;31m         \u001b[0mXt\u001b[0m \u001b[0;34m=\u001b[0m \u001b[0mself\u001b[0m\u001b[0;34m.\u001b[0m\u001b[0m_fit\u001b[0m\u001b[0;34m(\u001b[0m\u001b[0mX\u001b[0m\u001b[0;34m,\u001b[0m \u001b[0my\u001b[0m\u001b[0;34m,\u001b[0m \u001b[0;34m**\u001b[0m\u001b[0mfit_params_steps\u001b[0m\u001b[0;34m)\u001b[0m\u001b[0;34m\u001b[0m\u001b[0;34m\u001b[0m\u001b[0m\n\u001b[0m\u001b[1;32m    391\u001b[0m         \u001b[0;32mwith\u001b[0m \u001b[0m_print_elapsed_time\u001b[0m\u001b[0;34m(\u001b[0m\u001b[0;34m\"Pipeline\"\u001b[0m\u001b[0;34m,\u001b[0m \u001b[0mself\u001b[0m\u001b[0;34m.\u001b[0m\u001b[0m_log_message\u001b[0m\u001b[0;34m(\u001b[0m\u001b[0mlen\u001b[0m\u001b[0;34m(\u001b[0m\u001b[0mself\u001b[0m\u001b[0;34m.\u001b[0m\u001b[0msteps\u001b[0m\u001b[0;34m)\u001b[0m \u001b[0;34m-\u001b[0m \u001b[0;36m1\u001b[0m\u001b[0;34m)\u001b[0m\u001b[0;34m)\u001b[0m\u001b[0;34m:\u001b[0m\u001b[0;34m\u001b[0m\u001b[0;34m\u001b[0m\u001b[0m\n\u001b[1;32m    392\u001b[0m             \u001b[0;32mif\u001b[0m \u001b[0mself\u001b[0m\u001b[0;34m.\u001b[0m\u001b[0m_final_estimator\u001b[0m \u001b[0;34m!=\u001b[0m \u001b[0;34m\"passthrough\"\u001b[0m\u001b[0;34m:\u001b[0m\u001b[0;34m\u001b[0m\u001b[0;34m\u001b[0m\u001b[0m\n",
            "\u001b[0;32m~/anaconda3/lib/python3.9/site-packages/sklearn/pipeline.py\u001b[0m in \u001b[0;36m_fit\u001b[0;34m(self, X, y, **fit_params_steps)\u001b[0m\n\u001b[1;32m    346\u001b[0m                 \u001b[0mcloned_transformer\u001b[0m \u001b[0;34m=\u001b[0m \u001b[0mclone\u001b[0m\u001b[0;34m(\u001b[0m\u001b[0mtransformer\u001b[0m\u001b[0;34m)\u001b[0m\u001b[0;34m\u001b[0m\u001b[0;34m\u001b[0m\u001b[0m\n\u001b[1;32m    347\u001b[0m             \u001b[0;31m# Fit or load from cache the current transformer\u001b[0m\u001b[0;34m\u001b[0m\u001b[0;34m\u001b[0m\u001b[0m\n\u001b[0;32m--> 348\u001b[0;31m             X, fitted_transformer = fit_transform_one_cached(\n\u001b[0m\u001b[1;32m    349\u001b[0m                 \u001b[0mcloned_transformer\u001b[0m\u001b[0;34m,\u001b[0m\u001b[0;34m\u001b[0m\u001b[0;34m\u001b[0m\u001b[0m\n\u001b[1;32m    350\u001b[0m                 \u001b[0mX\u001b[0m\u001b[0;34m,\u001b[0m\u001b[0;34m\u001b[0m\u001b[0;34m\u001b[0m\u001b[0m\n",
            "\u001b[0;32m~/anaconda3/lib/python3.9/site-packages/joblib/memory.py\u001b[0m in \u001b[0;36m__call__\u001b[0;34m(self, *args, **kwargs)\u001b[0m\n\u001b[1;32m    347\u001b[0m \u001b[0;34m\u001b[0m\u001b[0m\n\u001b[1;32m    348\u001b[0m     \u001b[0;32mdef\u001b[0m \u001b[0m__call__\u001b[0m\u001b[0;34m(\u001b[0m\u001b[0mself\u001b[0m\u001b[0;34m,\u001b[0m \u001b[0;34m*\u001b[0m\u001b[0margs\u001b[0m\u001b[0;34m,\u001b[0m \u001b[0;34m**\u001b[0m\u001b[0mkwargs\u001b[0m\u001b[0;34m)\u001b[0m\u001b[0;34m:\u001b[0m\u001b[0;34m\u001b[0m\u001b[0;34m\u001b[0m\u001b[0m\n\u001b[0;32m--> 349\u001b[0;31m         \u001b[0;32mreturn\u001b[0m \u001b[0mself\u001b[0m\u001b[0;34m.\u001b[0m\u001b[0mfunc\u001b[0m\u001b[0;34m(\u001b[0m\u001b[0;34m*\u001b[0m\u001b[0margs\u001b[0m\u001b[0;34m,\u001b[0m \u001b[0;34m**\u001b[0m\u001b[0mkwargs\u001b[0m\u001b[0;34m)\u001b[0m\u001b[0;34m\u001b[0m\u001b[0;34m\u001b[0m\u001b[0m\n\u001b[0m\u001b[1;32m    350\u001b[0m \u001b[0;34m\u001b[0m\u001b[0m\n\u001b[1;32m    351\u001b[0m     \u001b[0;32mdef\u001b[0m \u001b[0mcall_and_shelve\u001b[0m\u001b[0;34m(\u001b[0m\u001b[0mself\u001b[0m\u001b[0;34m,\u001b[0m \u001b[0;34m*\u001b[0m\u001b[0margs\u001b[0m\u001b[0;34m,\u001b[0m \u001b[0;34m**\u001b[0m\u001b[0mkwargs\u001b[0m\u001b[0;34m)\u001b[0m\u001b[0;34m:\u001b[0m\u001b[0;34m\u001b[0m\u001b[0;34m\u001b[0m\u001b[0m\n",
            "\u001b[0;32m~/anaconda3/lib/python3.9/site-packages/sklearn/pipeline.py\u001b[0m in \u001b[0;36m_fit_transform_one\u001b[0;34m(transformer, X, y, weight, message_clsname, message, **fit_params)\u001b[0m\n\u001b[1;32m    891\u001b[0m     \u001b[0;32mwith\u001b[0m \u001b[0m_print_elapsed_time\u001b[0m\u001b[0;34m(\u001b[0m\u001b[0mmessage_clsname\u001b[0m\u001b[0;34m,\u001b[0m \u001b[0mmessage\u001b[0m\u001b[0;34m)\u001b[0m\u001b[0;34m:\u001b[0m\u001b[0;34m\u001b[0m\u001b[0;34m\u001b[0m\u001b[0m\n\u001b[1;32m    892\u001b[0m         \u001b[0;32mif\u001b[0m \u001b[0mhasattr\u001b[0m\u001b[0;34m(\u001b[0m\u001b[0mtransformer\u001b[0m\u001b[0;34m,\u001b[0m \u001b[0;34m\"fit_transform\"\u001b[0m\u001b[0;34m)\u001b[0m\u001b[0;34m:\u001b[0m\u001b[0;34m\u001b[0m\u001b[0;34m\u001b[0m\u001b[0m\n\u001b[0;32m--> 893\u001b[0;31m             \u001b[0mres\u001b[0m \u001b[0;34m=\u001b[0m \u001b[0mtransformer\u001b[0m\u001b[0;34m.\u001b[0m\u001b[0mfit_transform\u001b[0m\u001b[0;34m(\u001b[0m\u001b[0mX\u001b[0m\u001b[0;34m,\u001b[0m \u001b[0my\u001b[0m\u001b[0;34m,\u001b[0m \u001b[0;34m**\u001b[0m\u001b[0mfit_params\u001b[0m\u001b[0;34m)\u001b[0m\u001b[0;34m\u001b[0m\u001b[0;34m\u001b[0m\u001b[0m\n\u001b[0m\u001b[1;32m    894\u001b[0m         \u001b[0;32melse\u001b[0m\u001b[0;34m:\u001b[0m\u001b[0;34m\u001b[0m\u001b[0;34m\u001b[0m\u001b[0m\n\u001b[1;32m    895\u001b[0m             \u001b[0mres\u001b[0m \u001b[0;34m=\u001b[0m \u001b[0mtransformer\u001b[0m\u001b[0;34m.\u001b[0m\u001b[0mfit\u001b[0m\u001b[0;34m(\u001b[0m\u001b[0mX\u001b[0m\u001b[0;34m,\u001b[0m \u001b[0my\u001b[0m\u001b[0;34m,\u001b[0m \u001b[0;34m**\u001b[0m\u001b[0mfit_params\u001b[0m\u001b[0;34m)\u001b[0m\u001b[0;34m.\u001b[0m\u001b[0mtransform\u001b[0m\u001b[0;34m(\u001b[0m\u001b[0mX\u001b[0m\u001b[0;34m)\u001b[0m\u001b[0;34m\u001b[0m\u001b[0;34m\u001b[0m\u001b[0m\n",
            "\u001b[0;32m~/anaconda3/lib/python3.9/site-packages/sklearn/base.py\u001b[0m in \u001b[0;36mfit_transform\u001b[0;34m(self, X, y, **fit_params)\u001b[0m\n\u001b[1;32m    853\u001b[0m         \u001b[0;32melse\u001b[0m\u001b[0;34m:\u001b[0m\u001b[0;34m\u001b[0m\u001b[0;34m\u001b[0m\u001b[0m\n\u001b[1;32m    854\u001b[0m             \u001b[0;31m# fit method of arity 2 (supervised transformation)\u001b[0m\u001b[0;34m\u001b[0m\u001b[0;34m\u001b[0m\u001b[0m\n\u001b[0;32m--> 855\u001b[0;31m             \u001b[0;32mreturn\u001b[0m \u001b[0mself\u001b[0m\u001b[0;34m.\u001b[0m\u001b[0mfit\u001b[0m\u001b[0;34m(\u001b[0m\u001b[0mX\u001b[0m\u001b[0;34m,\u001b[0m \u001b[0my\u001b[0m\u001b[0;34m,\u001b[0m \u001b[0;34m**\u001b[0m\u001b[0mfit_params\u001b[0m\u001b[0;34m)\u001b[0m\u001b[0;34m.\u001b[0m\u001b[0mtransform\u001b[0m\u001b[0;34m(\u001b[0m\u001b[0mX\u001b[0m\u001b[0;34m)\u001b[0m\u001b[0;34m\u001b[0m\u001b[0;34m\u001b[0m\u001b[0m\n\u001b[0m\u001b[1;32m    856\u001b[0m \u001b[0;34m\u001b[0m\u001b[0m\n\u001b[1;32m    857\u001b[0m \u001b[0;34m\u001b[0m\u001b[0m\n",
            "\u001b[0;32m~/anaconda3/lib/python3.9/site-packages/sklearn/preprocessing/_polynomial.py\u001b[0m in \u001b[0;36mtransform\u001b[0;34m(self, X)\u001b[0m\n\u001b[1;32m    463\u001b[0m                     \u001b[0;31m# XP[:, start:end] are terms of degree d - 1\u001b[0m\u001b[0;34m\u001b[0m\u001b[0;34m\u001b[0m\u001b[0m\n\u001b[1;32m    464\u001b[0m                     \u001b[0;31m# that exclude feature #feature_idx.\u001b[0m\u001b[0;34m\u001b[0m\u001b[0;34m\u001b[0m\u001b[0m\n\u001b[0;32m--> 465\u001b[0;31m                     np.multiply(\n\u001b[0m\u001b[1;32m    466\u001b[0m                         \u001b[0mXP\u001b[0m\u001b[0;34m[\u001b[0m\u001b[0;34m:\u001b[0m\u001b[0;34m,\u001b[0m \u001b[0mstart\u001b[0m\u001b[0;34m:\u001b[0m\u001b[0mend\u001b[0m\u001b[0;34m]\u001b[0m\u001b[0;34m,\u001b[0m\u001b[0;34m\u001b[0m\u001b[0;34m\u001b[0m\u001b[0m\n\u001b[1;32m    467\u001b[0m                         \u001b[0mX\u001b[0m\u001b[0;34m[\u001b[0m\u001b[0;34m:\u001b[0m\u001b[0;34m,\u001b[0m \u001b[0mfeature_idx\u001b[0m \u001b[0;34m:\u001b[0m \u001b[0mfeature_idx\u001b[0m \u001b[0;34m+\u001b[0m \u001b[0;36m1\u001b[0m\u001b[0;34m]\u001b[0m\u001b[0;34m,\u001b[0m\u001b[0;34m\u001b[0m\u001b[0;34m\u001b[0m\u001b[0m\n",
            "\u001b[0;31mKeyboardInterrupt\u001b[0m: "
          ]
        }
      ],
      "source": [
        "for model in model_names:\n",
        "    run_model(model)"
      ]
    }
  ],
  "metadata": {
    "colab": {
      "provenance": []
    },
    "kernelspec": {
      "display_name": "base",
      "language": "python",
      "name": "python3"
    },
    "language_info": {
      "codemirror_mode": {
        "name": "ipython",
        "version": 3
      },
      "file_extension": ".py",
      "mimetype": "text/x-python",
      "name": "python",
      "nbconvert_exporter": "python",
      "pygments_lexer": "ipython3",
      "version": "3.9.13"
    },
    "vscode": {
      "interpreter": {
        "hash": "17c079a17488f864ed844188a957b07368e02626c5696f0a5f9cffb68c721ed6"
      }
    }
  },
  "nbformat": 4,
  "nbformat_minor": 0
}
